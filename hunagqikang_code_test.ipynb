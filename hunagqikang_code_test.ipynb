{
  "nbformat": 4,
  "nbformat_minor": 0,
  "metadata": {
    "colab": {
      "provenance": []
    },
    "kernelspec": {
      "name": "python3",
      "display_name": "Python 3"
    },
    "language_info": {
      "name": "python"
    }
  },
  "cells": [
    {
      "cell_type": "code",
      "execution_count": 15,
      "metadata": {
        "colab": {
          "base_uri": "https://localhost:8080/"
        },
        "id": "QdGNK3g32sxQ",
        "outputId": "2d668878-cd19-473f-9c83-dd636e944f29"
      },
      "outputs": [
        {
          "output_type": "stream",
          "name": "stderr",
          "text": [
            ".\n",
            "----------------------------------------------------------------------\n",
            "Ran 1 test in 0.013s\n",
            "\n",
            "OK\n"
          ]
        }
      ],
      "source": [
        "import unittest\n",
        "import numpy as np\n",
        "from sklearn.svm import SVC\n",
        "from sklearn.metrics import accuracy_score\n",
        "\n",
        "class TestHealthMonitoring(unittest.TestCase):\n",
        "\n",
        "    def setUp(self):\n",
        "        np.random.seed(0)  # 设置随机种子\n",
        "        # 初始化心跳模型\n",
        "        self.heartbeat_model = self.train_heartbeat_svm()\n",
        "\n",
        "    def train_heartbeat_svm(self):\n",
        "        # 模型训练的代码，保持不变\n",
        "        X_normal = np.random.randint(90, 121, (50, 1))\n",
        "        y_normal = np.zeros(50)  # 正常标签为0\n",
        "\n",
        "        X_abnormal_low = np.random.randint(60, 90, (25, 1))\n",
        "        X_abnormal_high = np.random.randint(121, 150, (25, 1))\n",
        "        X_abnormal = np.vstack((X_abnormal_low, X_abnormal_high))\n",
        "        y_abnormal = np.ones(50)  # 异常标签为1\n",
        "\n",
        "        X = np.vstack((X_normal, X_abnormal))\n",
        "        y = np.concatenate((y_normal, y_abnormal))\n",
        "\n",
        "        indices = np.arange(X.shape[0])\n",
        "        np.random.shuffle(indices)\n",
        "        X = X[indices]\n",
        "        y = y[indices]\n",
        "\n",
        "        model = SVC(kernel='linear')\n",
        "        model.fit(X, y)\n",
        "\n",
        "        return model\n",
        "\n",
        "    def test_heartbeat_model(self):\n",
        "        # 测试数据\n",
        "        heartbeat_data = np.array([[100], [110], [80], [130]])\n",
        "        expected_labels = np.array([0, 0, 1, 1])\n",
        "\n",
        "        # 预测\n",
        "        predictions = self.heartbeat_model.predict(heartbeat_data)\n",
        "\n",
        "        # 断言\n",
        "        self.assertEqual(predictions.shape, expected_labels.shape)\n",
        "        self.assertAlmostEqual(accuracy_score(expected_labels, predictions), 0.75, places=2)\n",
        "\n",
        "if __name__ == '__main__':\n",
        "    unittest.main(argv=['first-arg-is-ignored'], exit=False)\n"
      ]
    }
  ]
}