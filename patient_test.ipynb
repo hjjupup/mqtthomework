{
  "nbformat": 4,
  "nbformat_minor": 0,
  "metadata": {
    "colab": {
      "provenance": []
    },
    "kernelspec": {
      "name": "python3",
      "display_name": "Python 3"
    },
    "language_info": {
      "name": "python"
    }
  },
  "cells": [
    {
      "cell_type": "code",
      "source": [
        "# Install the Paho MQTT client library\n",
        "!pip install paho-mqtt\n",
        "\n",
        "import paho.mqtt.client as mqtt\n",
        "import random\n",
        "import time\n",
        "import threading\n",
        "import unittest\n",
        "from unittest.mock import MagicMock, patch\n",
        "\n",
        "# 定义发布心跳数据的函数\n",
        "def publish_heartbeat(client_name, topic, stop_event=None):\n",
        "    client_connected = threading.Event()\n",
        "\n",
        "    def on_connect(client, userdata, flags, rc):\n",
        "        if rc == 0:\n",
        "            print(f\"{client_name} connected to broker\")\n",
        "            client_connections[client_name] = True  # 更新连接状态\n",
        "            client_connected.set()  # 设置标志表示已连接\n",
        "        else:\n",
        "            print(f\"{client_name} connection failed with code {rc}\")\n",
        "\n",
        "    def on_disconnect(client, userdata, rc):\n",
        "        print(f\"{client_name} disconnected from broker with code {rc}\")\n",
        "        client_connections[client_name] = False  # 更新连接状态\n",
        "        client_connected.clear()  # 清除标志表示已断开连接\n",
        "\n",
        "    if client_connections.get(client_name):\n",
        "        print(f\"{client_name} already connected, skipping...\")\n",
        "        return\n",
        "\n",
        "    client = mqtt.Client(client_id=f\"{client_name}_{int(time.time())}\")\n",
        "    client.username_pw_set(username, password)\n",
        "    client.on_connect = on_connect\n",
        "    client.on_disconnect = on_disconnect\n",
        "\n",
        "    client.connect(broker_address, port)\n",
        "    client.loop_start()\n",
        "\n",
        "    # 等待客户端连接成功\n",
        "    if not client_connected.wait(timeout=10):\n",
        "        print(f\"{client_name} failed to connect within timeout\")\n",
        "        return\n",
        "\n",
        "    while not (stop_event and stop_event.is_set()):\n",
        "        heartbeat = random.randint(60, 130)\n",
        "        client.publish(topic, heartbeat)\n",
        "        print(f\"{client_name} sent heartbeat: {heartbeat}\")\n",
        "        time.sleep(5)\n",
        "\n",
        "    client.loop_stop()\n",
        "    client.disconnect()\n",
        "\n",
        "# 全局字典用于跟踪每个客户端的连接状态\n",
        "client_connections = {}\n",
        "\n",
        "broker_address = \"broker.emqx.io\"\n",
        "port = 1883\n",
        "username = \"test\"\n",
        "password = \"1\"\n",
        "\n",
        "client_info = [\n",
        "    {\"client_name\": \"client1\", \"topic\": \"patient/num1/heartbeat\"},\n",
        "    {\"client_name\": \"client2\", \"topic\": \"patient/num2/heartbeat\"},\n",
        "    {\"client_name\": \"client3\", \"topic\": \"patient/num3/heartbeat\"},\n",
        "]\n",
        "\n",
        "# 初始化连接状态\n",
        "for info in client_info:\n",
        "    client_connections[info[\"client_name\"]] = False\n",
        "\n",
        "# 测试代码\n",
        "class TestMQTTPublishHeartbeat(unittest.TestCase):\n",
        "\n",
        "    @patch('paho.mqtt.client.Client')\n",
        "    def test_publish_heartbeat(self, MockClient):\n",
        "        # 创建一个事件用于测试线程的启动和停止\n",
        "        stop_event = threading.Event()\n",
        "\n",
        "        # 设置模拟客户端的行为\n",
        "        mock_client = MockClient.return_value\n",
        "        mock_client.publish = MagicMock()\n",
        "        mock_client.connect = MagicMock()\n",
        "        mock_client.loop_start = MagicMock()\n",
        "        mock_client.loop_stop = MagicMock()\n",
        "        mock_client.disconnect = MagicMock()\n",
        "\n",
        "        def mock_on_connect(client, userdata, flags, rc):\n",
        "            client.on_connect(client, userdata, flags, 0)\n",
        "\n",
        "        mock_client.on_connect = MagicMock(side_effect=mock_on_connect)\n",
        "\n",
        "        # 启动线程来运行 publish_heartbeat 函数\n",
        "        def start_thread():\n",
        "            publish_heartbeat('test_client', 'test/topic', stop_event)\n",
        "\n",
        "        thread = threading.Thread(target=start_thread)\n",
        "        thread.start()\n",
        "\n",
        "        # 等待一些时间以确保线程运行\n",
        "        time.sleep(1)\n",
        "\n",
        "        # 手动调用 on_connect 回调以模拟连接成功\n",
        "        mock_client.on_connect(mock_client, None, None, 0)\n",
        "\n",
        "        # 允许一些时间给 publish 方法被调用\n",
        "        time.sleep(6)\n",
        "        self.assertTrue(mock_client.publish.called)\n",
        "\n",
        "        # 触发停止事件并等待线程结束\n",
        "        stop_event.set()\n",
        "        thread.join()\n",
        "\n",
        "        # 检查客户端是否正确断开连接\n",
        "        self.assertTrue(mock_client.disconnect.called)\n",
        "\n",
        "    def test_client_connections(self):\n",
        "        # 初始化 client_connections 字典\n",
        "        for info in client_info:\n",
        "            client_connections[info[\"client_name\"]] = False\n",
        "\n",
        "        # 检查 client_connections 字典是否正确初始化\n",
        "        for info in client_info:\n",
        "            self.assertFalse(client_connections[info[\"client_name\"]])\n",
        "\n",
        "# 运行测试\n",
        "unittest.main(argv=[''], exit=False)\n",
        "\n"
      ],
      "metadata": {
        "colab": {
          "base_uri": "https://localhost:8080/"
        },
        "id": "zovlF1x06D38",
        "outputId": "2d56a6c8-f163-4ae1-fdcb-c600b74c4636"
      },
      "execution_count": 5,
      "outputs": [
        {
          "output_type": "stream",
          "name": "stdout",
          "text": [
            "Requirement already satisfied: paho-mqtt in /usr/local/lib/python3.10/dist-packages (2.1.0)\n"
          ]
        },
        {
          "output_type": "stream",
          "name": "stderr",
          "text": [
            "."
          ]
        },
        {
          "output_type": "stream",
          "name": "stdout",
          "text": [
            "test_client connected to broker\n",
            "test_client sent heartbeat: 61\n",
            "test_client sent heartbeat: 90\n"
          ]
        },
        {
          "output_type": "stream",
          "name": "stderr",
          "text": [
            ".\n",
            "----------------------------------------------------------------------\n",
            "Ran 2 tests in 11.025s\n",
            "\n",
            "OK\n"
          ]
        },
        {
          "output_type": "execute_result",
          "data": {
            "text/plain": [
              "<unittest.main.TestProgram at 0x7ac19c235c60>"
            ]
          },
          "metadata": {},
          "execution_count": 5
        }
      ]
    },
    {
      "cell_type": "code",
      "execution_count": null,
      "metadata": {
        "id": "u1wQ5vSF5qEf"
      },
      "outputs": [],
      "source": [
        "\n",
        "\n"
      ]
    }
  ]
}